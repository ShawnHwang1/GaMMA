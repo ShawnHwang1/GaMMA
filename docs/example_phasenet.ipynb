{
 "cells": [
  {
   "cell_type": "markdown",
   "metadata": {},
   "source": [
    "# PhaseNet Example\n",
    "\n",
    "Applying GaMMA to associate PhaseNet picks"
   ]
  },
  {
   "cell_type": "code",
   "execution_count": 1,
   "metadata": {},
   "outputs": [
    {
     "name": "stdout",
     "output_type": "stream",
     "text": [
      "Collecting git+https://github.com/wayneweiqiang/GaMMA.git\n",
      "  Cloning https://github.com/wayneweiqiang/GaMMA.git to /private/var/folders/5t/lvy1yscs2_s1nz4xfylhnxshq_ggr7/T/pip-req-build-4j8qjhcq\n",
      "  Running command git clone --filter=blob:none --quiet https://github.com/wayneweiqiang/GaMMA.git /private/var/folders/5t/lvy1yscs2_s1nz4xfylhnxshq_ggr7/T/pip-req-build-4j8qjhcq\n",
      "  Resolved https://github.com/wayneweiqiang/GaMMA.git to commit 21cda309aeb62bb17b4568304288dd4826483aca\n",
      "  Preparing metadata (setup.py) ... \u001b[?25ldone\n",
      "\u001b[?25hRequirement already satisfied: scikit-learn in /Users/shwang/anaconda3/envs/gamma_latest/lib/python3.10/site-packages (from GMMA==1.2.2) (1.3.0)\n",
      "Requirement already satisfied: scipy in /Users/shwang/anaconda3/envs/gamma_latest/lib/python3.10/site-packages (from GMMA==1.2.2) (1.11.1)\n",
      "Requirement already satisfied: numpy in /Users/shwang/anaconda3/envs/gamma_latest/lib/python3.10/site-packages (from GMMA==1.2.2) (1.24.4)\n",
      "Requirement already satisfied: pyproj in /Users/shwang/anaconda3/envs/gamma_latest/lib/python3.10/site-packages (from GMMA==1.2.2) (3.4.1)\n",
      "Requirement already satisfied: tqdm in /Users/shwang/anaconda3/envs/gamma_latest/lib/python3.10/site-packages (from GMMA==1.2.2) (4.65.0)\n",
      "Requirement already satisfied: numba in /Users/shwang/anaconda3/envs/gamma_latest/lib/python3.10/site-packages (from GMMA==1.2.2) (0.57.1)\n",
      "Requirement already satisfied: llvmlite<0.41,>=0.40.0dev0 in /Users/shwang/anaconda3/envs/gamma_latest/lib/python3.10/site-packages (from numba->GMMA==1.2.2) (0.40.1)\n",
      "Requirement already satisfied: certifi in /Users/shwang/anaconda3/envs/gamma_latest/lib/python3.10/site-packages (from pyproj->GMMA==1.2.2) (2023.5.7)\n",
      "Requirement already satisfied: joblib>=1.1.1 in /Users/shwang/anaconda3/envs/gamma_latest/lib/python3.10/site-packages (from scikit-learn->GMMA==1.2.2) (1.3.1)\n",
      "Requirement already satisfied: threadpoolctl>=2.0.0 in /Users/shwang/anaconda3/envs/gamma_latest/lib/python3.10/site-packages (from scikit-learn->GMMA==1.2.2) (3.1.0)\n",
      "Building wheels for collected packages: GMMA\n",
      "  Building wheel for GMMA (setup.py) ... \u001b[?25ldone\n",
      "\u001b[?25h  Created wheel for GMMA: filename=GMMA-1.2.2-py3-none-any.whl size=32238 sha256=5393dc2cf3cec3dc1d634900f29326a50d796161086d4db96a36644d80694eca\n",
      "  Stored in directory: /private/var/folders/5t/lvy1yscs2_s1nz4xfylhnxshq_ggr7/T/pip-ephem-wheel-cache-emkyzav7/wheels/14/8e/61/5bbc1e42d9555c7fd6da162fecc9b834fe1564875e1c845d4b\n",
      "Successfully built GMMA\n",
      "Installing collected packages: GMMA\n",
      "  Attempting uninstall: GMMA\n",
      "    Found existing installation: GMMA 1.2.0\n",
      "    Uninstalling GMMA-1.2.0:\n",
      "      Successfully uninstalled GMMA-1.2.0\n",
      "Successfully installed GMMA-1.2.2\n"
     ]
    }
   ],
   "source": [
    "!pip install git+https://github.com/wayneweiqiang/GaMMA.git"
   ]
  },
  {
   "cell_type": "code",
   "execution_count": 3,
   "metadata": {
    "tags": []
   },
   "outputs": [
    {
     "ename": "ImportError",
     "evalue": "Numba needs NumPy 1.24 or less",
     "output_type": "error",
     "traceback": [
      "\u001b[0;31m---------------------------------------------------------------------------\u001b[0m",
      "\u001b[0;31mImportError\u001b[0m                               Traceback (most recent call last)",
      "Cell \u001b[0;32mIn[3], line 3\u001b[0m\n\u001b[1;32m      1\u001b[0m \u001b[38;5;28;01mimport\u001b[39;00m \u001b[38;5;21;01mpandas\u001b[39;00m \u001b[38;5;28;01mas\u001b[39;00m \u001b[38;5;21;01mpd\u001b[39;00m\n\u001b[1;32m      2\u001b[0m \u001b[38;5;28;01mfrom\u001b[39;00m \u001b[38;5;21;01mdatetime\u001b[39;00m \u001b[38;5;28;01mimport\u001b[39;00m datetime, timedelta\n\u001b[0;32m----> 3\u001b[0m \u001b[38;5;28;01mfrom\u001b[39;00m \u001b[38;5;21;01mgamma\u001b[39;00m \u001b[38;5;28;01mimport\u001b[39;00m BayesianGaussianMixture, GaussianMixture\n\u001b[1;32m      4\u001b[0m \u001b[38;5;28;01mfrom\u001b[39;00m \u001b[38;5;21;01mgamma\u001b[39;00m\u001b[38;5;21;01m.\u001b[39;00m\u001b[38;5;21;01mutils\u001b[39;00m \u001b[38;5;28;01mimport\u001b[39;00m convert_picks_csv, association, from_seconds\n\u001b[1;32m      5\u001b[0m \u001b[38;5;28;01mimport\u001b[39;00m \u001b[38;5;21;01mnumpy\u001b[39;00m \u001b[38;5;28;01mas\u001b[39;00m \u001b[38;5;21;01mnp\u001b[39;00m\n",
      "File \u001b[0;32m~/Documents/GaMMA/GaMMA/gamma/docs/gamma/__init__.py:5\u001b[0m\n\u001b[1;32m      1\u001b[0m \u001b[38;5;124;03m\"\"\"\u001b[39;00m\n\u001b[1;32m      2\u001b[0m \u001b[38;5;124;03mThe :mod:`sklearn.mixture` module implements mixture modeling algorithms.\u001b[39;00m\n\u001b[1;32m      3\u001b[0m \u001b[38;5;124;03m\"\"\"\u001b[39;00m\n\u001b[0;32m----> 5\u001b[0m \u001b[38;5;28;01mfrom\u001b[39;00m \u001b[38;5;21;01m.\u001b[39;00m\u001b[38;5;21;01m_gaussian_mixture\u001b[39;00m \u001b[38;5;28;01mimport\u001b[39;00m GaussianMixture\n\u001b[1;32m      6\u001b[0m \u001b[38;5;28;01mfrom\u001b[39;00m \u001b[38;5;21;01m.\u001b[39;00m\u001b[38;5;21;01m_bayesian_mixture\u001b[39;00m \u001b[38;5;28;01mimport\u001b[39;00m BayesianGaussianMixture\n\u001b[1;32m      7\u001b[0m \u001b[38;5;66;03m# from .seismic_ops import *\u001b[39;00m\n",
      "File \u001b[0;32m~/Documents/GaMMA/GaMMA/gamma/docs/gamma/_gaussian_mixture.py:13\u001b[0m\n\u001b[1;32m     10\u001b[0m \u001b[38;5;28;01mfrom\u001b[39;00m \u001b[38;5;21;01msklearn\u001b[39;00m\u001b[38;5;21;01m.\u001b[39;00m\u001b[38;5;21;01mutils\u001b[39;00m\u001b[38;5;21;01m.\u001b[39;00m\u001b[38;5;21;01mextmath\u001b[39;00m \u001b[38;5;28;01mimport\u001b[39;00m row_norms\n\u001b[1;32m     11\u001b[0m \u001b[38;5;28;01mfrom\u001b[39;00m \u001b[38;5;21;01msklearn\u001b[39;00m\u001b[38;5;21;01m.\u001b[39;00m\u001b[38;5;21;01mutils\u001b[39;00m\u001b[38;5;21;01m.\u001b[39;00m\u001b[38;5;21;01mvalidation\u001b[39;00m \u001b[38;5;28;01mimport\u001b[39;00m _deprecate_positional_args\n\u001b[0;32m---> 13\u001b[0m \u001b[38;5;28;01mfrom\u001b[39;00m \u001b[38;5;21;01m.\u001b[39;00m\u001b[38;5;21;01mseismic_ops\u001b[39;00m \u001b[38;5;28;01mimport\u001b[39;00m \u001b[38;5;241m*\u001b[39m\n\u001b[1;32m     14\u001b[0m \u001b[38;5;28;01mfrom\u001b[39;00m \u001b[38;5;21;01m.\u001b[39;00m\u001b[38;5;21;01m_base\u001b[39;00m \u001b[38;5;28;01mimport\u001b[39;00m BaseMixture, _check_shape\n\u001b[1;32m     16\u001b[0m \u001b[38;5;66;03m###############################################################################\u001b[39;00m\n\u001b[1;32m     17\u001b[0m \u001b[38;5;66;03m# Gaussian mixture shape checkers used by the GaussianMixture class\u001b[39;00m\n",
      "File \u001b[0;32m~/Documents/GaMMA/GaMMA/gamma/docs/gamma/seismic_ops.py:6\u001b[0m\n\u001b[1;32m      4\u001b[0m \u001b[38;5;28;01mimport\u001b[39;00m \u001b[38;5;21;01mshelve\u001b[39;00m\n\u001b[1;32m      5\u001b[0m \u001b[38;5;28;01mfrom\u001b[39;00m \u001b[38;5;21;01mpathlib\u001b[39;00m \u001b[38;5;28;01mimport\u001b[39;00m Path\n\u001b[0;32m----> 6\u001b[0m \u001b[38;5;28;01mfrom\u001b[39;00m \u001b[38;5;21;01mnumba\u001b[39;00m \u001b[38;5;28;01mimport\u001b[39;00m njit\n\u001b[1;32m      7\u001b[0m \u001b[38;5;28;01mfrom\u001b[39;00m \u001b[38;5;21;01mnumba\u001b[39;00m\u001b[38;5;21;01m.\u001b[39;00m\u001b[38;5;21;01mtyped\u001b[39;00m \u001b[38;5;28;01mimport\u001b[39;00m List\n\u001b[1;32m      8\u001b[0m \u001b[38;5;28;01mimport\u001b[39;00m \u001b[38;5;21;01mtime\u001b[39;00m\n",
      "File \u001b[0;32m~/anaconda3/envs/gamma_latest/lib/python3.10/site-packages/numba/__init__.py:55\u001b[0m\n\u001b[1;32m     50\u001b[0m             msg \u001b[38;5;241m=\u001b[39m (\u001b[38;5;124m\"\u001b[39m\u001b[38;5;124mNumba requires SciPy version 1.0 or greater. Got SciPy \u001b[39m\u001b[38;5;124m\"\u001b[39m\n\u001b[1;32m     51\u001b[0m                    \u001b[38;5;124mf\u001b[39m\u001b[38;5;124m\"\u001b[39m\u001b[38;5;132;01m{\u001b[39;00mscipy\u001b[38;5;241m.\u001b[39m__version__\u001b[38;5;132;01m}\u001b[39;00m\u001b[38;5;124m.\u001b[39m\u001b[38;5;124m\"\u001b[39m)\n\u001b[1;32m     52\u001b[0m             \u001b[38;5;28;01mraise\u001b[39;00m \u001b[38;5;167;01mImportError\u001b[39;00m(msg)\n\u001b[0;32m---> 55\u001b[0m \u001b[43m_ensure_critical_deps\u001b[49m\u001b[43m(\u001b[49m\u001b[43m)\u001b[49m\n\u001b[1;32m     56\u001b[0m \u001b[38;5;66;03m# END DO NOT MOVE\u001b[39;00m\n\u001b[1;32m     57\u001b[0m \u001b[38;5;66;03m# ---------------------- WARNING WARNING WARNING ----------------------------\u001b[39;00m\n\u001b[1;32m     60\u001b[0m \u001b[38;5;28;01mfrom\u001b[39;00m \u001b[38;5;21;01m.\u001b[39;00m\u001b[38;5;21;01m_version\u001b[39;00m \u001b[38;5;28;01mimport\u001b[39;00m get_versions\n",
      "File \u001b[0;32m~/anaconda3/envs/gamma_latest/lib/python3.10/site-packages/numba/__init__.py:42\u001b[0m, in \u001b[0;36m_ensure_critical_deps\u001b[0;34m()\u001b[0m\n\u001b[1;32m     40\u001b[0m     \u001b[38;5;28;01mraise\u001b[39;00m \u001b[38;5;167;01mImportError\u001b[39;00m(msg)\n\u001b[1;32m     41\u001b[0m \u001b[38;5;28;01melif\u001b[39;00m numpy_version \u001b[38;5;241m>\u001b[39m (\u001b[38;5;241m1\u001b[39m, \u001b[38;5;241m24\u001b[39m):\n\u001b[0;32m---> 42\u001b[0m     \u001b[38;5;28;01mraise\u001b[39;00m \u001b[38;5;167;01mImportError\u001b[39;00m(\u001b[38;5;124m\"\u001b[39m\u001b[38;5;124mNumba needs NumPy 1.24 or less\u001b[39m\u001b[38;5;124m\"\u001b[39m)\n\u001b[1;32m     43\u001b[0m \u001b[38;5;28;01mtry\u001b[39;00m:\n\u001b[1;32m     44\u001b[0m     \u001b[38;5;28;01mimport\u001b[39;00m \u001b[38;5;21;01mscipy\u001b[39;00m\n",
      "\u001b[0;31mImportError\u001b[0m: Numba needs NumPy 1.24 or less"
     ]
    }
   ],
   "source": [
    "import pandas as pd\n",
    "from datetime import datetime, timedelta\n",
    "from gamma import BayesianGaussianMixture, GaussianMixture\n",
    "from gamma.utils import convert_picks_csv, association, from_seconds\n",
    "import numpy as np\n",
    "from sklearn.cluster import DBSCAN \n",
    "from datetime import datetime, timedelta\n",
    "import os\n",
    "import json\n",
    "import pickle\n",
    "from pyproj import Proj\n",
    "from tqdm import tqdm"
   ]
  },
  {
   "cell_type": "markdown",
   "metadata": {},
   "source": [
    "## 1. Download and Read data\n",
    "\n",
    "- Download test data: PhaseNet picks of the 2019 Ridgecrest earthquake sequence\n",
    "1. picks file: picks.json\n",
    "2. station information: stations.csv\n",
    "3. events in SCSN catalog: events.csv\n",
    "\n",
    "```bash\n",
    "wget https://github.com/wayneweiqiang/GaMMA/releases/download/test_data/test_data.zip\n",
    "unzip test_data.zip\n",
    "```"
   ]
  },
  {
   "cell_type": "code",
   "execution_count": null,
   "metadata": {},
   "outputs": [],
   "source": [
    "!rm test_data.zip \n",
    "!rm -rf test_data\n",
    "!wget https://github.com/wayneweiqiang/GaMMA/releases/download/test_data/test_data.zip\n",
    "!unzip test_data.zip"
   ]
  },
  {
   "cell_type": "code",
   "execution_count": null,
   "metadata": {
    "tags": []
   },
   "outputs": [],
   "source": [
    "data_dir = lambda x: os.path.join(\"test_data\", x)\n",
    "station_csv = data_dir(\"stations.csv\")\n",
    "pick_json = data_dir(\"picks.json\")\n",
    "catalog_csv = data_dir(\"catalog_gamma.csv\")\n",
    "picks_csv = data_dir(\"picks_gamma.csv\")\n",
    "if not os.path.exists(\"figures\"):\n",
    "    os.makedirs(\"figures\")\n",
    "figure_dir = lambda x: os.path.join(\"figures\", x)\n",
    "\n",
    "config = {'center': (-117.504, 35.705), #calculate center\n",
    "    'xlim_degree': [-118.004, -117.004], #Long\n",
    "    'ylim_degree': [35.205, 36.205], #lat\n",
    "    'degree2km': 111.19492474777779, \n",
    "    'starttime': datetime(2019, 7, 4, 17, 0), \n",
    "    'endtime': datetime(2019, 7, 5, 0, 0)}\n",
    "\n",
    "## read picks\n",
    "picks = pd.read_json(pick_json)\n",
    "picks[\"station_id\"] = picks[\"id\"]\n",
    "picks[\"phase_time\"] = picks[\"timestamp\"]\n",
    "picks[\"phase_amp\"] = picks[\"amp\"]\n",
    "picks[\"phase_type\"] = picks[\"type\"]\n",
    "picks[\"phase_score\"] = picks[\"prob\"]\n",
    "\n",
    "## read stations\n",
    "stations = pd.read_csv(station_csv, delimiter=\"\\t\")\n",
    "stations = stations.rename(columns={\"station\":\"id\"})\n",
    "proj = Proj(f\"+proj=sterea +lon_0={config['center'][0]} +lat_0={config['center'][1]} +units=km\")\n",
    "stations[[\"x(km)\", \"y(km)\"]] = stations.apply(lambda x: pd.Series(proj(longitude=x.longitude, latitude=x.latitude)), axis=1)\n",
    "stations[\"z(km)\"] = stations[\"elevation(m)\"].apply(lambda x: -x/1e3)\n",
    "\n",
    "### setting GMMA configs\n",
    "config[\"use_dbscan\"] = True\n",
    "config[\"use_amplitude\"] = True\n",
    "config[\"method\"] = \"BGMM\"  \n",
    "if config[\"method\"] == \"BGMM\": ## BayesianGaussianMixture\n",
    "    config[\"oversample_factor\"] = 8\n",
    "if config[\"method\"] == \"GMM\": ## GaussianMixture\n",
    "    config[\"oversample_factor\"] = 1\n",
    "\n",
    "# earthquake location\n",
    "config[\"vel\"] = {\"p\": 6.0, \"s\": 6.0 / 1.75}\n",
    "config[\"dims\"] = ['x(km)', 'y(km)', 'z(km)']\n",
    "config[\"x(km)\"] = (np.array(config[\"xlim_degree\"])-np.array(config[\"center\"][0]))*config[\"degree2km\"]*np.cos(np.deg2rad(config[\"center\"][1]))\n",
    "config[\"y(km)\"] = (np.array(config[\"ylim_degree\"])-np.array(config[\"center\"][1]))*config[\"degree2km\"]\n",
    "config[\"z(km)\"] = (0, 20)\n",
    "config[\"bfgs_bounds\"] = (\n",
    "    (config[\"x(km)\"][0] - 1, config[\"x(km)\"][1] + 1),  # x\n",
    "    (config[\"y(km)\"][0] - 1, config[\"y(km)\"][1] + 1),  # y\n",
    "    (0, config[\"z(km)\"][1] + 1),  # z\n",
    "    (None, None),  # t\n",
    ")\n",
    "\n",
    "# DBSCAN\n",
    "config[\"dbscan_eps\"] = 10 #s\n",
    "config[\"dbscan_min_samples\"] = 3\n",
    "\n",
    "## Eikonal for 1D velocity model\n",
    "# zz = [0.0, 5.5, 16.0, 32.0]\n",
    "# vp = [5.5, 5.5,  6.7,  7.8]\n",
    "# vp_vs_ratio = 1.73\n",
    "# vs = [v / vp_vs_ratio for v in vp]\n",
    "# h = 0.3\n",
    "# # h = 3\n",
    "# vel = {\"z\": zz, \"p\": vp, \"s\": vs}\n",
    "# config[\"eikonal\"] = {\"vel\": vel, \"h\": h, \"xlim\": config[\"x(km)\"], \"ylim\": config[\"y(km)\"], \"zlim\": config[\"z(km)\"]}\n",
    "\n",
    "\n",
    "# filtering\n",
    "config[\"min_picks_per_eq\"] = 5\n",
    "config[\"min_p_picks_per_eq\"] = 0\n",
    "config[\"min_s_picks_per_eq\"] = 0\n",
    "config[\"max_sigma11\"] = 2.0 # s\n",
    "config[\"max_sigma22\"] = 1.0 # log10(m/s)\n",
    "config[\"max_sigma12\"] = 1.0 # covariance\n",
    "\n",
    "## filter picks without amplitude measurements\n",
    "if config[\"use_amplitude\"]:\n",
    "    picks = picks[picks[\"amp\"] != -1]\n",
    "\n",
    "for k, v in config.items():\n",
    "    print(f\"{k}: {v}\")"
   ]
  },
  {
   "cell_type": "markdown",
   "metadata": {},
   "source": [
    "## 2. Associaiton with GaMMA"
   ]
  },
  {
   "cell_type": "code",
   "execution_count": null,
   "metadata": {
    "tags": []
   },
   "outputs": [],
   "source": [
    "event_idx0 = 0 ## current earthquake index\n",
    "assignments = []\n",
    "catalogs, assignments = association(picks, stations, config, event_idx0, config[\"method\"])\n",
    "event_idx0 += len(catalogs)\n",
    "\n",
    "## create catalog\n",
    "catalogs = pd.DataFrame(catalogs, columns=[\"time\"]+config[\"dims\"]+[\"magnitude\", \"sigma_time\", \"sigma_amp\", \"cov_time_amp\",  \"event_index\", \"gamma_score\"])\n",
    "catalogs[[\"longitude\",\"latitude\"]] = catalogs.apply(lambda x: pd.Series(proj(longitude=x[\"x(km)\"], latitude=x[\"y(km)\"], inverse=True)), axis=1)\n",
    "catalogs[\"depth(m)\"] = catalogs[\"z(km)\"].apply(lambda x: x*1e3)\n",
    "with open(catalog_csv, 'w') as fp:\n",
    "    catalogs.to_csv(fp, sep=\"\\t\", index=False, \n",
    "                    float_format=\"%.3f\",\n",
    "                    date_format='%Y-%m-%dT%H:%M:%S.%f',\n",
    "                    columns=[\"time\", \"magnitude\", \"longitude\", \"latitude\", \"depth(m)\", \"sigma_time\", \"sigma_amp\", \"cov_time_amp\", \"event_index\", \"gamma_score\"])\n",
    "# catalogs = catalogs[['time', 'magnitude', 'longitude', 'latitude', 'depth(m)', 'sigma_time', 'sigma_amp', 'gamma_score']]\n",
    "\n",
    "## add assignment to picks\n",
    "assignments = pd.DataFrame(assignments, columns=[\"pick_index\", \"event_index\", \"gamma_score\"])\n",
    "picks = picks.join(assignments.set_index(\"pick_index\")).fillna(-1).astype({'event_index': int})\n",
    "with open(picks_csv, 'w') as fp:\n",
    "    picks.to_csv(fp, sep=\"\\t\", index=False, \n",
    "                    date_format='%Y-%m-%dT%H:%M:%S.%f',\n",
    "                    columns=[\"station_id\", \"phase_time\", \"phase_type\", \"phase_score\", \"phase_amp\", \"event_index\", \"gamma_score\"])"
   ]
  },
  {
   "cell_type": "markdown",
   "metadata": {},
   "source": [
    "## 3. Visualize results\n",
    "\n",
    "Note that the location and magnitude are estimated during associaiton, which are not expected to have high accuracy. "
   ]
  },
  {
   "cell_type": "code",
   "execution_count": null,
   "metadata": {
    "tags": []
   },
   "outputs": [],
   "source": [
    "import matplotlib.pyplot as plt\n",
    "import matplotlib.dates as mdates\n",
    "result_label=\"GaMMA\"\n",
    "catalog_label=\"SCSN\""
   ]
  },
  {
   "cell_type": "code",
   "execution_count": null,
   "metadata": {
    "tags": []
   },
   "outputs": [],
   "source": [
    "stations = pd.read_csv(data_dir(\"stations.csv\"), delimiter=\"\\t\")\n",
    "events = pd.read_csv(data_dir(\"events.csv\"), delimiter=\"\\t\")\n",
    "events[\"time\"] = events[\"time\"].apply(lambda x: datetime.strptime(x, \"%Y-%m-%dT%H:%M:%S.%f\"))\n",
    "\n",
    "catalog = pd.read_csv(data_dir(\"catalog_gamma.csv\"), delimiter=\"\\t\")\n",
    "catalog[\"time\"] = catalog[\"time\"].apply(lambda x: datetime.strptime(x, \"%Y-%m-%dT%H:%M:%S.%f\"))\n",
    "\n",
    "plt.figure()\n",
    "plt.hist(catalog[\"time\"], range=(config[\"starttime\"], config[\"endtime\"]), bins=24, edgecolor=\"k\", alpha=1.0, linewidth=0.5, label=f\"{result_label}: {len(catalog['time'])}\")\n",
    "plt.hist(events[\"time\"], range=(config[\"starttime\"], config[\"endtime\"]), bins=24, edgecolor=\"k\", alpha=0.6, linewidth=0.5, label=f\"{catalog_label}: {len(events['time'])}\")\n",
    "plt.ylabel(\"Frequency\")\n",
    "plt.xlabel(\"Date\")\n",
    "plt.gca().autoscale(enable=True, axis='x', tight=True)\n",
    "plt.gca().xaxis.set_major_formatter(mdates.DateFormatter('%m-%d:%H'))\n",
    "plt.gcf().autofmt_xdate()\n",
    "plt.legend()\n",
    "plt.savefig(figure_dir(\"earthquake_number.png\"), bbox_inches=\"tight\", dpi=300)\n",
    "plt.savefig(figure_dir(\"earthquake_number.pdf\"), bbox_inches=\"tight\")\n",
    "plt.show();"
   ]
  },
  {
   "cell_type": "code",
   "execution_count": null,
   "metadata": {
    "tags": []
   },
   "outputs": [],
   "source": [
    "fig = plt.figure(figsize=plt.rcParams[\"figure.figsize\"]*np.array([1.5,1]))\n",
    "box = dict(boxstyle='round', facecolor='white', alpha=1)\n",
    "text_loc = [0.05, 0.92]\n",
    "grd = fig.add_gridspec(ncols=2, nrows=2, width_ratios=[1.5, 1], height_ratios=[1,1])\n",
    "fig.add_subplot(grd[:, 0])\n",
    "plt.plot(catalog[\"longitude\"], catalog[\"latitude\"], '.',markersize=2, alpha=1.0)\n",
    "plt.plot(events[\"longitude\"], events[\"latitude\"], '.', markersize=2, alpha=0.6)\n",
    "plt.axis(\"scaled\")\n",
    "plt.xlim(np.array(config[\"xlim_degree\"])+np.array([0.2,-0.27]))\n",
    "plt.ylim(np.array(config[\"ylim_degree\"])+np.array([0.2,-0.27]))\n",
    "plt.xlabel(\"Latitude\")\n",
    "plt.ylabel(\"Longitude\")\n",
    "plt.gca().set_prop_cycle(None)\n",
    "plt.plot(config[\"xlim_degree\"][0]-10, config[\"ylim_degree\"][0]-10, '.', markersize=10, label=f\"{result_label}\", rasterized=True)\n",
    "plt.plot(config[\"xlim_degree\"][0]-10, config[\"ylim_degree\"][0]-10, '.', markersize=10, label=f\"{catalog_label}\", rasterized=True)\n",
    "plt.plot(stations[\"longitude\"], stations[\"latitude\"], 'k^', markersize=5, alpha=0.7, label=\"Stations\")\n",
    "plt.legend(loc=\"lower right\")\n",
    "plt.text(text_loc[0], text_loc[1], '(i)', horizontalalignment='left', verticalalignment=\"top\", \n",
    "         transform=plt.gca().transAxes, fontsize=\"large\", fontweight=\"normal\", bbox=box)\n",
    "\n",
    "fig.add_subplot(grd[0, 1])\n",
    "plt.plot(catalog[\"longitude\"], catalog[\"depth(m)\"]/1e3, '.', markersize=2, alpha=1.0, rasterized=True)\n",
    "plt.plot(events[\"longitude\"], events[\"depth(m)\"]/1e3, '.', markersize=2, alpha=0.6, rasterized=True)\n",
    "# plt.axis(\"scaled\")\n",
    "plt.xlim(np.array(config[\"xlim_degree\"])+np.array([0.2,-0.27]))\n",
    "plt.ylim([0,21])\n",
    "plt.gca().invert_yaxis()\n",
    "plt.xlabel(\"Longitude\")\n",
    "plt.ylabel(\"Depth (km)\")\n",
    "plt.gca().set_prop_cycle(None)\n",
    "plt.plot(config[\"xlim_degree\"][0]-10, 31, '.', markersize=10, label=f\"{result_label}\")\n",
    "plt.plot(31, 31, '.', markersize=10, label=f\"{catalog_label}\")\n",
    "plt.legend(loc=\"lower right\")\n",
    "plt.text(text_loc[0], text_loc[1], '(ii)', horizontalalignment='left', verticalalignment=\"top\", \n",
    "         transform=plt.gca().transAxes, fontsize=\"large\", fontweight=\"normal\", bbox=box)\n",
    "\n",
    "fig.add_subplot(grd[1, 1])\n",
    "plt.plot(catalog[\"latitude\"], catalog[\"depth(m)\"]/1e3, '.', markersize=2, alpha=1.0, rasterized=True)\n",
    "plt.plot(events[\"latitude\"], events[\"depth(m)\"]/1e3, '.', markersize=2, alpha=0.6, rasterized=True)\n",
    "# plt.axis(\"scaled\")\n",
    "plt.xlim(np.array(config[\"ylim_degree\"])+np.array([0.2,-0.27]))\n",
    "plt.ylim([0,21])\n",
    "plt.gca().invert_yaxis()\n",
    "plt.xlabel(\"Latitude\")\n",
    "plt.ylabel(\"Depth (km)\")\n",
    "plt.gca().set_prop_cycle(None)\n",
    "plt.plot(config[\"ylim_degree\"][0]-10, 31, '.', markersize=10, label=f\"{result_label}\")\n",
    "plt.plot(31, 31, '.', markersize=10, label=f\"{catalog_label}\")\n",
    "plt.legend(loc=\"lower right\")\n",
    "plt.tight_layout()\n",
    "plt.text(text_loc[0], text_loc[1], '(iii)', horizontalalignment='left', verticalalignment=\"top\", \n",
    "         transform=plt.gca().transAxes, fontsize=\"large\", fontweight=\"normal\", bbox=box)\n",
    "plt.savefig(figure_dir(\"earthquake_location.png\"), bbox_inches=\"tight\", dpi=300)\n",
    "plt.savefig(figure_dir(\"earthquake_location.pdf\"), bbox_inches=\"tight\", dpi=300)\n",
    "plt.show();"
   ]
  },
  {
   "cell_type": "code",
   "execution_count": null,
   "metadata": {
    "tags": []
   },
   "outputs": [],
   "source": [
    "plt.figure()\n",
    "plt.hist(catalog[\"magnitude\"], range=(-1., events[\"magnitude\"].max()), bins=25, alpha=1.0,  edgecolor=\"k\", linewidth=0.5, label=f\"{result_label}: {len(catalog['magnitude'])}\")\n",
    "plt.hist(events[\"magnitude\"], range=(-1., events[\"magnitude\"].max()), bins=25, alpha=0.6,  edgecolor=\"k\", linewidth=0.5, label=f\"{catalog_label}: {len(events['magnitude'])}\")\n",
    "plt.legend()\n",
    "# plt.figure()\n",
    "plt.xlim([-1,events[\"magnitude\"].max()])\n",
    "plt.xlabel(\"Magnitude\")\n",
    "plt.ylabel(\"Frequency\")\n",
    "plt.gca().set_yscale('log')\n",
    "plt.savefig(figure_dir(\"earthquake_magnitude_frequency.png\"), bbox_inches=\"tight\", dpi=300)\n",
    "plt.savefig(figure_dir(\"earthquake_magnitude_frequency.pdf\"), bbox_inches=\"tight\")\n",
    "plt.show();"
   ]
  },
  {
   "cell_type": "code",
   "execution_count": null,
   "metadata": {
    "tags": []
   },
   "outputs": [],
   "source": [
    "plt.figure()\n",
    "plt.plot(catalog[\"time\"], catalog[\"magnitude\"], '.', markersize=5, alpha=1.0, rasterized=True)\n",
    "plt.plot(events[\"time\"], events[\"magnitude\"], '.', markersize=5, alpha=0.8, rasterized=True)\n",
    "plt.xlim(config[\"starttime\"], config[\"endtime\"])\n",
    "ylim = plt.ylim()\n",
    "plt.ylabel(\"Magnitude\")\n",
    "# plt.xlabel(\"Date\")\n",
    "plt.gca().xaxis.set_major_formatter(mdates.DateFormatter('%m-%d:%H'))\n",
    "plt.gcf().autofmt_xdate()\n",
    "plt.gca().set_prop_cycle(None)\n",
    "plt.plot(config[\"starttime\"], -10, '.', markersize=15, alpha=1.0, label=f\"{result_label}: {len(catalog['magnitude'])}\")\n",
    "plt.plot(config[\"starttime\"], -10, '.', markersize=15, alpha=1.0, label=f\"{catalog_label}: {len(events['magnitude'])}\")\n",
    "plt.legend()\n",
    "plt.ylim(ylim)\n",
    "plt.grid()\n",
    "plt.savefig(figure_dir(\"earthquake_magnitude_time.png\"), bbox_inches=\"tight\", dpi=300)\n",
    "plt.savefig(figure_dir(\"earthquake_magnitude_time.pdf\"), bbox_inches=\"tight\", dpi=300)\n",
    "plt.show();"
   ]
  },
  {
   "cell_type": "code",
   "execution_count": null,
   "metadata": {
    "tags": []
   },
   "outputs": [],
   "source": [
    "# covariance = np.array(catalog[\"covariance\"].to_list())\n",
    "fig = plt.figure(figsize=plt.rcParams[\"figure.figsize\"]*np.array([0.8,1.1]))\n",
    "box = dict(boxstyle='round', facecolor='white', alpha=1)\n",
    "text_loc = [0.05, 0.90]\n",
    "plt.subplot(311)\n",
    "plt.plot(catalog[\"time\"], catalog[\"sigma_time\"], '.', markersize=3.0, label=\"Travel-time\")\n",
    "# plt.ylim([0, 3])\n",
    "plt.ylabel(r\"$\\sigma_{11}$ (s)\")\n",
    "plt.legend(loc=\"upper right\")\n",
    "plt.text(text_loc[0], text_loc[1], '(i)', horizontalalignment='left', verticalalignment=\"top\", \n",
    "         transform=plt.gca().transAxes, fontsize=\"large\", fontweight=\"normal\", bbox=box)\n",
    "plt.subplot(312)\n",
    "plt.plot(catalog[\"time\"], catalog[\"sigma_amp\"], '.', markersize=3.0, label=\"Amplitude\")\n",
    "# plt.ylim([0, 1])\n",
    "plt.ylabel(r\"$\\sigma_{22}$ ($\\log10$ m/s)\")\n",
    "plt.legend(loc=\"upper right\")\n",
    "plt.text(text_loc[0], text_loc[1], '(ii)', horizontalalignment='left', verticalalignment=\"top\", \n",
    "         transform=plt.gca().transAxes, fontsize=\"large\", fontweight=\"normal\", bbox=box)\n",
    "plt.subplot(313)\n",
    "plt.plot(catalog[\"time\"], catalog[\"cov_time_amp\"], '.', markersize=3.0, label=\"Travel-time vs. Amplitude\")\n",
    "plt.ylabel(r\"$\\Sigma_{12}$\")\n",
    "plt.ylim([-0.5, 0.5])\n",
    "plt.legend(loc=\"upper right\")\n",
    "plt.text(text_loc[0], text_loc[1], '(iii)', horizontalalignment='left', verticalalignment=\"top\", \n",
    "         transform=plt.gca().transAxes, fontsize=\"large\", fontweight=\"normal\", bbox=box)\n",
    "plt.gca().xaxis.set_major_formatter(mdates.DateFormatter('%m-%d:%H'))\n",
    "plt.gcf().autofmt_xdate()\n",
    "# plt.suptitle(r\"Covariance Matrix ($\\Sigma$) Coefficients\")\n",
    "plt.tight_layout()\n",
    "plt.gcf().align_labels()\n",
    "plt.savefig(figure_dir(\"covariance.png\"), bbox_inches=\"tight\", dpi=300)\n",
    "plt.savefig(figure_dir(\"covariance.pdf\"), bbox_inches=\"tight\")\n",
    "plt.show();"
   ]
  }
 ],
 "metadata": {
  "kernelspec": {
   "display_name": "Python 3 (ipykernel)",
   "language": "python",
   "name": "python3"
  },
  "language_info": {
   "codemirror_mode": {
    "name": "ipython",
    "version": 3
   },
   "file_extension": ".py",
   "mimetype": "text/x-python",
   "name": "python",
   "nbconvert_exporter": "python",
   "pygments_lexer": "ipython3",
   "version": "3.10.12"
  },
  "vscode": {
   "interpreter": {
    "hash": "3ad933181bd8a04b432d3370b9dc3b0662ad032c4dfaa4e4f1596c548f763858"
   }
  }
 },
 "nbformat": 4,
 "nbformat_minor": 4
}
